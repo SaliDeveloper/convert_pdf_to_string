{
  "cells": [
    {
      "cell_type": "code",
      "execution_count": null,
      "metadata": {
        "colab": {
          "base_uri": "https://localhost:8080/"
        },
        "id": "E8b4taDc8KcI",
        "outputId": "d9896284-2502-4204-8d69-839d0cf28df3"
      },
      "outputs": [],
      "source": [
        "!pip install pytesseract\n",
        "!pip install pdf2image\n",
        "\n",
        "!apt-get install poppler-utils\n",
        "!sudo apt-get install tesseract-ocr-fas"
      ]
    },
    {
      "cell_type": "code",
      "execution_count": null,
      "metadata": {
        "colab": {
          "base_uri": "https://localhost:8080/"
        },
        "id": "rcDiE4TIHy_1",
        "outputId": "b7f9a5b1-0508-4dbb-ebd1-00f1f52fc5f5"
      },
      "outputs": [
        {
          "name": "stdout",
          "output_type": "stream",
          "text": [
            "--2024-01-14 06:26:04--  https://github.com/tesseract-ocr/tessdata/raw/main/fas.traineddata\n",
            "Resolving github.com (github.com)... 140.82.121.4\n",
            "Connecting to github.com (github.com)|140.82.121.4|:443... connected.\n",
            "HTTP request sent, awaiting response... 302 Found\n",
            "Location: https://raw.githubusercontent.com/tesseract-ocr/tessdata/main/fas.traineddata [following]\n",
            "--2024-01-14 06:26:04--  https://raw.githubusercontent.com/tesseract-ocr/tessdata/main/fas.traineddata\n",
            "Resolving raw.githubusercontent.com (raw.githubusercontent.com)... 185.199.108.133, 185.199.109.133, 185.199.110.133, ...\n",
            "Connecting to raw.githubusercontent.com (raw.githubusercontent.com)|185.199.108.133|:443... connected.\n",
            "HTTP request sent, awaiting response... 200 OK\n",
            "Length: 561272 (548K) [application/octet-stream]\n",
            "Saving to: ‘fas.traineddata’\n",
            "\n",
            "fas.traineddata     100%[===================>] 548.12K  --.-KB/s    in 0.02s   \n",
            "\n",
            "2024-01-14 06:26:04 (35.0 MB/s) - ‘fas.traineddata’ saved [561272/561272]\n",
            "\n"
          ]
        }
      ],
      "source": [
        "!wget https://github.com/tesseract-ocr/tessdata/raw/main/fas.traineddata"
      ]
    },
    {
      "cell_type": "code",
      "execution_count": null,
      "metadata": {
        "id": "IEQB8HFf8AzK"
      },
      "outputs": [],
      "source": [
        "import os\n",
        "import csv\n",
        "import pytesseract\n",
        "from pdf2image import convert_from_path\n",
        "import shutil\n",
        "import gdown\n",
        "import gc"
      ]
    },
    {
      "cell_type": "markdown",
      "metadata": {
        "id": "tAwCO8zS8AzS"
      },
      "source": [
        "* Path to the Tesseract executable (modify this based on your installation)"
      ]
    },
    {
      "cell_type": "code",
      "execution_count": null,
      "metadata": {
        "id": "7fq1-oTs8AzV"
      },
      "outputs": [],
      "source": [
        "# pytesseract.pytesseract.tesseract_cmd = r'C:\\Program Files\\Tesseract-OCR\\tesseract.exe'"
      ]
    },
    {
      "cell_type": "markdown",
      "metadata": {
        "id": "RjDxgyoW8AzW"
      },
      "source": [
        "* OCR"
      ]
    },
    {
      "cell_type": "code",
      "execution_count": null,
      "metadata": {
        "id": "D9PAeSml8AzX"
      },
      "outputs": [],
      "source": [
        "def extract_text_from_image(img, lang='fas'):\n",
        "    return pytesseract.image_to_string(img, lang=lang)"
      ]
    },
    {
      "cell_type": "markdown",
      "metadata": {
        "id": "BEnV5xCU8AzY"
      },
      "source": [
        "* PDF to Text"
      ]
    },
    {
      "cell_type": "code",
      "execution_count": null,
      "metadata": {
        "id": "9m66fMNo8AzZ"
      },
      "outputs": [],
      "source": [
        "def extract_text_from_pdf(pdf_name):\n",
        "    # extracted_data = []\n",
        "    images = convert_from_path(f'pdfs/{pdf_name}.pdf',first_page=2, grayscale=True)\n",
        "    with open(f'texts/{pdf_name}.txt', 'w', encoding='utf-8', newline='') as text_file:\n",
        "        for i, img in enumerate(images):\n",
        "            progress = int((i+1)/len(images)*20)\n",
        "            print(f\"\\r[{''.join(['=' if j<progress else '>' if j==progress else '-' for j in range(1,21)])}] {i+1:2d}/{len(images)}\",end='')\n",
        "            image_filename = f\"/content/images/image_{i + 1}.png\"\n",
        "            img.save(image_filename, 'PNG')\n",
        "            extracted_text = extract_text_from_image(image_filename)\n",
        "            text_file.write(f\"{extracted_text}\\n\\n\")\n",
        "            # extracted_data.append({\n",
        "            #         \"Page\": i + 1,\n",
        "            #         \"Text\": extracted_text\n",
        "                # })\n",
        "    print(\" \\u2713\")\n",
        "    # shutil.move(f'/content/{pdf_name}.txt', f'./texts/{pdf_name}.txt')\n",
        "    shutil.move(f'./pdfs/{pdf_name}.pdf', f'./pdfs_done/{pdf_name}.pdf')\n",
        "    # Cleanup memory\n",
        "    del(images)\n",
        "    gc.collect()\n",
        "    # return extracted_data"
      ]
    },
    {
      "cell_type": "markdown",
      "metadata": {
        "id": "f1LBqOn48Azb"
      },
      "source": [
        "* Save dataset to CSV"
      ]
    },
    {
      "cell_type": "code",
      "execution_count": null,
      "metadata": {
        "id": "6S7dKf4d8Azc"
      },
      "outputs": [],
      "source": [
        "def save_to_csv(data, csv_name):\n",
        "    # Specify the CSV file path\n",
        "    csv_columns = [\"Page\", \"Text\"]\n",
        "\n",
        "    # Write the data to the CSV file\n",
        "    with open(f'dataset/{csv_name}.csv', 'w', encoding='utf-8', newline='') as csv_file:\n",
        "        writer = csv.DictWriter(csv_file, fieldnames=csv_columns)\n",
        "        writer.writeheader()\n",
        "        for row in data:\n",
        "            writer.writerow(row)"
      ]
    },
    {
      "cell_type": "code",
      "execution_count": null,
      "metadata": {
        "id": "HOwuG1Yi8Aze"
      },
      "outputs": [],
      "source": [
        "def save_to_text(file_name,data):\n",
        "    with open(f'texts/{file_name}.txt', 'w', encoding='utf-8') as file_name:\n",
        "        # Process each image and extract text\n",
        "        for extracted_text in data:\n",
        "            # Save extracted text to the text file\n",
        "            file_name.write(f\"{extracted_text}\\n\\n\")"
      ]
    },
    {
      "cell_type": "markdown",
      "metadata": {
        "id": "lBTLHQV28Azf"
      },
      "source": [
        "* Create textual dataset from pdfs"
      ]
    },
    {
      "cell_type": "code",
      "execution_count": null,
      "metadata": {
        "colab": {
          "base_uri": "https://localhost:8080/"
        },
        "id": "UyQRioyG8eSr",
        "outputId": "397085e7-c128-49d5-e88e-5b6d5f468c92"
      },
      "outputs": [
        {
          "name": "stdout",
          "output_type": "stream",
          "text": [
            "Mounted at /content/drive\n"
          ]
        }
      ],
      "source": [
        "from google.colab import drive\n",
        "drive.mount('/content/drive')"
      ]
    },
    {
      "cell_type": "code",
      "execution_count": null,
      "metadata": {
        "colab": {
          "base_uri": "https://localhost:8080/"
        },
        "id": "ODciQL8NeF5i",
        "outputId": "19152ce7-488c-469e-c716-8251d75b3103"
      },
      "outputs": [],
      "source": [
        "os.chdir('/content/drive/MyDrive/text_dataset/pdfs')\n",
        "names = [name for name in os.listdir('.') if name.endswith('.PDF')]\n",
        "print(len(names))\n",
        "for name in names:\n",
        "    os.rename(name,f'{name[:-4]}.pdf')"
      ]
    },
    {
      "cell_type": "code",
      "execution_count": null,
      "metadata": {
        "colab": {
          "base_uri": "https://localhost:8080/",
          "height": 192
        },
        "id": "hG4lpxL9D-t9",
        "outputId": "71d7c8a4-2f93-4b48-dbfe-da03062cab51"
      },
      "outputs": [],
      "source": [
        "os.makedirs('/content/images')\n",
        "os.chdir('/content/drive/MyDrive/text_dataset')"
      ]
    },
    {
      "cell_type": "code",
      "execution_count": null,
      "metadata": {
        "colab": {
          "base_uri": "https://localhost:8080/"
        },
        "id": "XqFkcatF8Azf",
        "outputId": "841873de-ed64-472d-911d-e76e599a8ae3"
      },
      "outputs": [],
      "source": [
        "num_pdfs = len(os.listdir('./pdfs'))\n",
        "for i, file_name in enumerate(os.listdir('./pdfs')):\n",
        "    print(f'[{i+1}/{num_pdfs}]',file_name[:-4])\n",
        "    extract_text_from_pdf(file_name[:-4])"
      ]
    },
    {
      "cell_type": "code",
      "execution_count": null,
      "metadata": {
        "id": "1G8961rzYtVv"
      },
      "outputs": [],
      "source": []
    }
  ],
  "metadata": {
    "colab": {
      "provenance": []
    },
    "kernelspec": {
      "display_name": "Python 3",
      "name": "python3"
    },
    "language_info": {
      "codemirror_mode": {
        "name": "ipython",
        "version": 3
      },
      "file_extension": ".py",
      "mimetype": "text/x-python",
      "name": "python",
      "nbconvert_exporter": "python",
      "pygments_lexer": "ipython3",
      "version": "3.11.7"
    }
  },
  "nbformat": 4,
  "nbformat_minor": 0
}
